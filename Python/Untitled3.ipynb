{
 "cells": [
  {
   "cell_type": "code",
   "execution_count": 108,
   "metadata": {},
   "outputs": [],
   "source": [
    "import numpy as np"
   ]
  },
  {
   "cell_type": "code",
   "execution_count": 109,
   "metadata": {},
   "outputs": [
    {
     "data": {
      "text/plain": [
       "'1.18.5'"
      ]
     },
     "execution_count": 109,
     "metadata": {},
     "output_type": "execute_result"
    }
   ],
   "source": [
    "np.__version__"
   ]
  },
  {
   "cell_type": "code",
   "execution_count": 110,
   "metadata": {},
   "outputs": [
    {
     "ename": "ValueError",
     "evalue": "invalid number of arguments",
     "output_type": "error",
     "traceback": [
      "\u001b[1;31m---------------------------------------------------------------------------\u001b[0m",
      "\u001b[1;31mValueError\u001b[0m                                Traceback (most recent call last)",
      "\u001b[1;32m<ipython-input-110-3c3093db0cd7>\u001b[0m in \u001b[0;36m<module>\u001b[1;34m\u001b[0m\n\u001b[1;32m----> 1\u001b[1;33m \u001b[0mnp\u001b[0m\u001b[1;33m.\u001b[0m\u001b[0mabs\u001b[0m\u001b[1;33m(\u001b[0m\u001b[1;33m)\u001b[0m\u001b[1;33m\u001b[0m\u001b[1;33m\u001b[0m\u001b[0m\n\u001b[0m",
      "\u001b[1;31mValueError\u001b[0m: invalid number of arguments"
     ]
    }
   ],
   "source": [
    "np.abs()"
   ]
  },
  {
   "cell_type": "code",
   "execution_count": 111,
   "metadata": {},
   "outputs": [
    {
     "data": {
      "text/plain": [
       "array([[6]])"
      ]
     },
     "execution_count": 111,
     "metadata": {},
     "output_type": "execute_result"
    }
   ],
   "source": [
    "np.random.seed(0)\n",
    "r1=np.random.randint(1,10,(1,1))\n",
    "r1"
   ]
  },
  {
   "cell_type": "code",
   "execution_count": 112,
   "metadata": {},
   "outputs": [
    {
     "data": {
      "text/plain": [
       "array([0, 1, 2, 3, 4, 5, 6, 7, 8, 9])"
      ]
     },
     "execution_count": 112,
     "metadata": {},
     "output_type": "execute_result"
    }
   ],
   "source": [
    "np.arange(10)"
   ]
  },
  {
   "cell_type": "code",
   "execution_count": 113,
   "metadata": {},
   "outputs": [
    {
     "data": {
      "text/plain": [
       "array([4, 6, 8])"
      ]
     },
     "execution_count": 113,
     "metadata": {},
     "output_type": "execute_result"
    }
   ],
   "source": [
    "np.arange(4,10,2)"
   ]
  },
  {
   "cell_type": "code",
   "execution_count": 114,
   "metadata": {},
   "outputs": [
    {
     "data": {
      "text/plain": [
       "array([9, 7, 5, 3])"
      ]
     },
     "execution_count": 114,
     "metadata": {},
     "output_type": "execute_result"
    }
   ],
   "source": [
    "np.arange(3,10,2)[::-1]"
   ]
  },
  {
   "cell_type": "code",
   "execution_count": 115,
   "metadata": {},
   "outputs": [
    {
     "data": {
      "text/plain": [
       "'1.0.5'"
      ]
     },
     "execution_count": 115,
     "metadata": {},
     "output_type": "execute_result"
    }
   ],
   "source": [
    "import pandas as pd\n",
    "pd.__version__"
   ]
  },
  {
   "cell_type": "code",
   "execution_count": 116,
   "metadata": {},
   "outputs": [],
   "source": [
    "df=pd.read_csv('C:/Users/mert_/Desktop/Python/data/employees.csv')"
   ]
  },
  {
   "cell_type": "code",
   "execution_count": 117,
   "metadata": {},
   "outputs": [
    {
     "data": {
      "text/html": [
       "<div>\n",
       "<style scoped>\n",
       "    .dataframe tbody tr th:only-of-type {\n",
       "        vertical-align: middle;\n",
       "    }\n",
       "\n",
       "    .dataframe tbody tr th {\n",
       "        vertical-align: top;\n",
       "    }\n",
       "\n",
       "    .dataframe thead th {\n",
       "        text-align: right;\n",
       "    }\n",
       "</style>\n",
       "<table border=\"1\" class=\"dataframe\">\n",
       "  <thead>\n",
       "    <tr style=\"text-align: right;\">\n",
       "      <th></th>\n",
       "      <th>First Name</th>\n",
       "      <th>Gender</th>\n",
       "      <th>Start Date</th>\n",
       "      <th>Last Login Time</th>\n",
       "      <th>Salary</th>\n",
       "      <th>Bonus %</th>\n",
       "      <th>Senior Management</th>\n",
       "      <th>Team</th>\n",
       "    </tr>\n",
       "  </thead>\n",
       "  <tbody>\n",
       "    <tr>\n",
       "      <th>0</th>\n",
       "      <td>Douglas</td>\n",
       "      <td>Male</td>\n",
       "      <td>8/6/1993</td>\n",
       "      <td>12:42 PM</td>\n",
       "      <td>97308</td>\n",
       "      <td>6.945</td>\n",
       "      <td>True</td>\n",
       "      <td>Marketing</td>\n",
       "    </tr>\n",
       "    <tr>\n",
       "      <th>1</th>\n",
       "      <td>Thomas</td>\n",
       "      <td>Male</td>\n",
       "      <td>3/31/1996</td>\n",
       "      <td>6:53 AM</td>\n",
       "      <td>61933</td>\n",
       "      <td>4.170</td>\n",
       "      <td>True</td>\n",
       "      <td>NaN</td>\n",
       "    </tr>\n",
       "    <tr>\n",
       "      <th>2</th>\n",
       "      <td>Maria</td>\n",
       "      <td>Female</td>\n",
       "      <td>4/23/1993</td>\n",
       "      <td>11:17 AM</td>\n",
       "      <td>130590</td>\n",
       "      <td>11.858</td>\n",
       "      <td>False</td>\n",
       "      <td>Finance</td>\n",
       "    </tr>\n",
       "    <tr>\n",
       "      <th>3</th>\n",
       "      <td>Jerry</td>\n",
       "      <td>Male</td>\n",
       "      <td>3/4/2005</td>\n",
       "      <td>1:00 PM</td>\n",
       "      <td>138705</td>\n",
       "      <td>9.340</td>\n",
       "      <td>True</td>\n",
       "      <td>Finance</td>\n",
       "    </tr>\n",
       "    <tr>\n",
       "      <th>4</th>\n",
       "      <td>Larry</td>\n",
       "      <td>Male</td>\n",
       "      <td>1/24/1998</td>\n",
       "      <td>4:47 PM</td>\n",
       "      <td>101004</td>\n",
       "      <td>1.389</td>\n",
       "      <td>True</td>\n",
       "      <td>Client Services</td>\n",
       "    </tr>\n",
       "  </tbody>\n",
       "</table>\n",
       "</div>"
      ],
      "text/plain": [
       "  First Name  Gender Start Date Last Login Time  Salary  Bonus %  \\\n",
       "0    Douglas    Male   8/6/1993        12:42 PM   97308    6.945   \n",
       "1     Thomas    Male  3/31/1996         6:53 AM   61933    4.170   \n",
       "2      Maria  Female  4/23/1993        11:17 AM  130590   11.858   \n",
       "3      Jerry    Male   3/4/2005         1:00 PM  138705    9.340   \n",
       "4      Larry    Male  1/24/1998         4:47 PM  101004    1.389   \n",
       "\n",
       "  Senior Management             Team  \n",
       "0              True        Marketing  \n",
       "1              True              NaN  \n",
       "2             False          Finance  \n",
       "3              True          Finance  \n",
       "4              True  Client Services  "
      ]
     },
     "execution_count": 117,
     "metadata": {},
     "output_type": "execute_result"
    }
   ],
   "source": [
    "df.head()"
   ]
  },
  {
   "cell_type": "code",
   "execution_count": 123,
   "metadata": {},
   "outputs": [],
   "source": [
    "poz=pd.read_excel('C:/Users/mert_/Desktop/Veriler/2011-2018 Pozisyon.xlsx')"
   ]
  },
  {
   "cell_type": "code",
   "execution_count": 124,
   "metadata": {},
   "outputs": [
    {
     "data": {
      "text/html": [
       "<div>\n",
       "<style scoped>\n",
       "    .dataframe tbody tr th:only-of-type {\n",
       "        vertical-align: middle;\n",
       "    }\n",
       "\n",
       "    .dataframe tbody tr th {\n",
       "        vertical-align: top;\n",
       "    }\n",
       "\n",
       "    .dataframe thead th {\n",
       "        text-align: right;\n",
       "    }\n",
       "</style>\n",
       "<table border=\"1\" class=\"dataframe\">\n",
       "  <thead>\n",
       "    <tr style=\"text-align: right;\">\n",
       "      <th></th>\n",
       "      <th>ExpImp</th>\n",
       "      <th>OperasyonSube</th>\n",
       "      <th>Istipi</th>\n",
       "      <th>PositionNo</th>\n",
       "      <th>PozYuklemeTipi</th>\n",
       "      <th>YukSayisi</th>\n",
       "      <th>TirSayisi</th>\n",
       "      <th>DorsePlaka</th>\n",
       "      <th>CikisTarihi</th>\n",
       "      <th>VarisTarihi</th>\n",
       "      <th>NakliyeciUnvan</th>\n",
       "      <th>ToplamGiderEuro</th>\n",
       "      <th>ToplamGelirEuro</th>\n",
       "      <th>KarEuro</th>\n",
       "      <th>YurtdisiAcenteUnvan</th>\n",
       "      <th>CikisYeri</th>\n",
       "      <th>VarisYeri</th>\n",
       "      <th>Km</th>\n",
       "      <th>TransitSure</th>\n",
       "      <th>CikisKapısı</th>\n",
       "      <th>TirNavlun</th>\n",
       "      <th>OdemeSekli</th>\n",
       "      <th>KapAdet</th>\n",
       "      <th>Kilo</th>\n",
       "      <th>M3</th>\n",
       "      <th>Cweight</th>\n",
       "    </tr>\n",
       "  </thead>\n",
       "  <tbody>\n",
       "    <tr>\n",
       "      <th>0</th>\n",
       "      <td>EXP</td>\n",
       "      <td>34</td>\n",
       "      <td>125</td>\n",
       "      <td>11/01/125/00014</td>\n",
       "      <td>PARTIAL</td>\n",
       "      <td>3</td>\n",
       "      <td>1</td>\n",
       "      <td>34 FF 0907</td>\n",
       "      <td>2011-01-03</td>\n",
       "      <td>NaT</td>\n",
       "      <td>KARGO-TEK ULUS. TAŞ. VE LOJ. HİZ. TİC. LTD. ŞTİ.</td>\n",
       "      <td>3231.48</td>\n",
       "      <td>3321.07</td>\n",
       "      <td>89.59</td>\n",
       "      <td>TRANS BAVARIA GMBH</td>\n",
       "      <td>NaN</td>\n",
       "      <td>NaN</td>\n",
       "      <td>NaN</td>\n",
       "      <td>NaN</td>\n",
       "      <td>KAPIKULE</td>\n",
       "      <td>3100.0</td>\n",
       "      <td>P</td>\n",
       "      <td>997.0</td>\n",
       "      <td>7486.15</td>\n",
       "      <td>89.576</td>\n",
       "      <td>29828.808</td>\n",
       "    </tr>\n",
       "    <tr>\n",
       "      <th>1</th>\n",
       "      <td>EXP</td>\n",
       "      <td>34</td>\n",
       "      <td>140</td>\n",
       "      <td>11/01/140/00030</td>\n",
       "      <td>COMPLETE</td>\n",
       "      <td>21</td>\n",
       "      <td>1</td>\n",
       "      <td>34 TU 8116</td>\n",
       "      <td>2011-01-04</td>\n",
       "      <td>NaT</td>\n",
       "      <td>GLOBAL ULUSLARARASI NAKLİYE GÜMRÜK. İNŞAAT SAN...</td>\n",
       "      <td>2572.25</td>\n",
       "      <td>3841.99</td>\n",
       "      <td>1269.74</td>\n",
       "      <td>ALPI DANMARK A/S</td>\n",
       "      <td>NaN</td>\n",
       "      <td>NaN</td>\n",
       "      <td>NaN</td>\n",
       "      <td>NaN</td>\n",
       "      <td>KAPIKULE</td>\n",
       "      <td>2900.0</td>\n",
       "      <td>P</td>\n",
       "      <td>412.0</td>\n",
       "      <td>17653.78</td>\n",
       "      <td>72.019</td>\n",
       "      <td>27439.604</td>\n",
       "    </tr>\n",
       "    <tr>\n",
       "      <th>2</th>\n",
       "      <td>EXP</td>\n",
       "      <td>34</td>\n",
       "      <td>123</td>\n",
       "      <td>11/01/123/00015</td>\n",
       "      <td>PARTIAL</td>\n",
       "      <td>4</td>\n",
       "      <td>1</td>\n",
       "      <td>81 BN 532</td>\n",
       "      <td>2011-01-04</td>\n",
       "      <td>NaT</td>\n",
       "      <td>KÖKEZ ULUSLARARASI NAKLİYAT TURİZM TİCARET A.Ş.</td>\n",
       "      <td>6121.07</td>\n",
       "      <td>6510.13</td>\n",
       "      <td>389.06</td>\n",
       "      <td>TRANS BAVARIA GMBH DUSSELDORF</td>\n",
       "      <td>NaN</td>\n",
       "      <td>NaN</td>\n",
       "      <td>NaN</td>\n",
       "      <td>NaN</td>\n",
       "      <td>KAPIKULE</td>\n",
       "      <td>2900.0</td>\n",
       "      <td>P</td>\n",
       "      <td>872.0</td>\n",
       "      <td>14470.00</td>\n",
       "      <td>77.678</td>\n",
       "      <td>26530.750</td>\n",
       "    </tr>\n",
       "    <tr>\n",
       "      <th>3</th>\n",
       "      <td>EXP</td>\n",
       "      <td>34</td>\n",
       "      <td>150</td>\n",
       "      <td>11/01/150/00017</td>\n",
       "      <td>PARTIAL</td>\n",
       "      <td>3</td>\n",
       "      <td>1</td>\n",
       "      <td>34 EU 2967</td>\n",
       "      <td>2011-01-05</td>\n",
       "      <td>NaT</td>\n",
       "      <td>ARES ULUSLARARASI NAKLİYAT VE DIŞ TİC. LTD. ŞTİ.</td>\n",
       "      <td>5047.14</td>\n",
       "      <td>5156.10</td>\n",
       "      <td>108.96</td>\n",
       "      <td>ALPI UK LIMITED</td>\n",
       "      <td>NaN</td>\n",
       "      <td>NaN</td>\n",
       "      <td>NaN</td>\n",
       "      <td>NaN</td>\n",
       "      <td>AMBARLI</td>\n",
       "      <td>3200.0</td>\n",
       "      <td>P</td>\n",
       "      <td>502.0</td>\n",
       "      <td>20340.02</td>\n",
       "      <td>87.289</td>\n",
       "      <td>37595.920</td>\n",
       "    </tr>\n",
       "    <tr>\n",
       "      <th>4</th>\n",
       "      <td>EXP</td>\n",
       "      <td>16</td>\n",
       "      <td>126</td>\n",
       "      <td>11/01/126/00023</td>\n",
       "      <td>COMPLETE</td>\n",
       "      <td>1</td>\n",
       "      <td>1</td>\n",
       "      <td>33 E 2078</td>\n",
       "      <td>2011-01-05</td>\n",
       "      <td>NaT</td>\n",
       "      <td>ÇANİLER ULUS. TAŞ. PET. İNŞ. SAN. VE TİC. LTD....</td>\n",
       "      <td>3100.00</td>\n",
       "      <td>3480.00</td>\n",
       "      <td>380.00</td>\n",
       "      <td>LAMPRECHT TRANSPORT LTD. FRACHTGEBAUDE POSTFAC...</td>\n",
       "      <td>NaN</td>\n",
       "      <td>NaN</td>\n",
       "      <td>NaN</td>\n",
       "      <td>NaN</td>\n",
       "      <td>KAPIKULE</td>\n",
       "      <td>3050.0</td>\n",
       "      <td>P</td>\n",
       "      <td>734.0</td>\n",
       "      <td>17513.00</td>\n",
       "      <td>85.000</td>\n",
       "      <td>28305.000</td>\n",
       "    </tr>\n",
       "  </tbody>\n",
       "</table>\n",
       "</div>"
      ],
      "text/plain": [
       "  ExpImp  OperasyonSube  Istipi       PositionNo PozYuklemeTipi  YukSayisi  \\\n",
       "0    EXP             34     125  11/01/125/00014        PARTIAL          3   \n",
       "1    EXP             34     140  11/01/140/00030       COMPLETE         21   \n",
       "2    EXP             34     123  11/01/123/00015        PARTIAL          4   \n",
       "3    EXP             34     150  11/01/150/00017        PARTIAL          3   \n",
       "4    EXP             16     126  11/01/126/00023       COMPLETE          1   \n",
       "\n",
       "   TirSayisi  DorsePlaka CikisTarihi VarisTarihi  \\\n",
       "0          1  34 FF 0907  2011-01-03         NaT   \n",
       "1          1  34 TU 8116  2011-01-04         NaT   \n",
       "2          1   81 BN 532  2011-01-04         NaT   \n",
       "3          1  34 EU 2967  2011-01-05         NaT   \n",
       "4          1   33 E 2078  2011-01-05         NaT   \n",
       "\n",
       "                                      NakliyeciUnvan  ToplamGiderEuro  \\\n",
       "0   KARGO-TEK ULUS. TAŞ. VE LOJ. HİZ. TİC. LTD. ŞTİ.          3231.48   \n",
       "1  GLOBAL ULUSLARARASI NAKLİYE GÜMRÜK. İNŞAAT SAN...          2572.25   \n",
       "2    KÖKEZ ULUSLARARASI NAKLİYAT TURİZM TİCARET A.Ş.          6121.07   \n",
       "3   ARES ULUSLARARASI NAKLİYAT VE DIŞ TİC. LTD. ŞTİ.          5047.14   \n",
       "4  ÇANİLER ULUS. TAŞ. PET. İNŞ. SAN. VE TİC. LTD....          3100.00   \n",
       "\n",
       "   ToplamGelirEuro  KarEuro  \\\n",
       "0          3321.07    89.59   \n",
       "1          3841.99  1269.74   \n",
       "2          6510.13   389.06   \n",
       "3          5156.10   108.96   \n",
       "4          3480.00   380.00   \n",
       "\n",
       "                                 YurtdisiAcenteUnvan CikisYeri VarisYeri  Km  \\\n",
       "0                                 TRANS BAVARIA GMBH       NaN       NaN NaN   \n",
       "1                                   ALPI DANMARK A/S       NaN       NaN NaN   \n",
       "2                      TRANS BAVARIA GMBH DUSSELDORF       NaN       NaN NaN   \n",
       "3                                   ALPI UK LIMITED        NaN       NaN NaN   \n",
       "4  LAMPRECHT TRANSPORT LTD. FRACHTGEBAUDE POSTFAC...       NaN       NaN NaN   \n",
       "\n",
       "   TransitSure CikisKapısı  TirNavlun OdemeSekli  KapAdet      Kilo      M3  \\\n",
       "0          NaN    KAPIKULE     3100.0          P    997.0   7486.15  89.576   \n",
       "1          NaN    KAPIKULE     2900.0          P    412.0  17653.78  72.019   \n",
       "2          NaN    KAPIKULE     2900.0          P    872.0  14470.00  77.678   \n",
       "3          NaN     AMBARLI     3200.0          P    502.0  20340.02  87.289   \n",
       "4          NaN    KAPIKULE     3050.0          P    734.0  17513.00  85.000   \n",
       "\n",
       "     Cweight  \n",
       "0  29828.808  \n",
       "1  27439.604  \n",
       "2  26530.750  \n",
       "3  37595.920  \n",
       "4  28305.000  "
      ]
     },
     "execution_count": 124,
     "metadata": {},
     "output_type": "execute_result"
    }
   ],
   "source": [
    "pd.set_option('display.max_columns', 26)\n",
    "poz.head()"
   ]
  },
  {
   "cell_type": "code",
   "execution_count": 125,
   "metadata": {},
   "outputs": [
    {
     "data": {
      "text/plain": [
       "<matplotlib.axes._subplots.AxesSubplot at 0x124585f2940>"
      ]
     },
     "execution_count": 125,
     "metadata": {},
     "output_type": "execute_result"
    },
    {
     "data": {
      "image/png": "[encoded data removed]",
      "text/plain": [
       "<Figure size 432x288 with 1 Axes>"
      ]
     },
     "metadata": {
      "needs_background": "light"
     },
     "output_type": "display_data"
    }
   ],
   "source": [
    "poz['KarEuro'].plot(kind='box')"
   ]
  },
  {
   "cell_type": "code",
   "execution_count": 119,
   "metadata": {},
   "outputs": [],
   "source": [
    "import matplotlib.pyplot as plt"
   ]
  },
  {
   "cell_type": "code",
   "execution_count": 120,
   "metadata": {},
   "outputs": [],
   "source": [
    "x=np.linspace(-np.pi,np.pi,50)"
   ]
  },
  {
   "cell_type": "code",
   "execution_count": 121,
   "metadata": {},
   "outputs": [
    {
     "data": {
      "text/plain": [
       "(-3.141592653589793, 3.141592653589793, -1.0, 0.9994862162006879)"
      ]
     },
     "execution_count": 121,
     "metadata": {},
     "output_type": "execute_result"
    },
    {
     "data": {
      "image/png": "[encoded data removed]",
      "text/plain": [
       "<Figure size 432x288 with 1 Axes>"
      ]
     },
     "metadata": {
      "needs_background": "light"
     },
     "output_type": "display_data"
    }
   ],
   "source": [
    "fig=plt.figure()\n",
    "plt.plot(x,np.cos(x),label='cos')\n",
    "plt.plot(x,np.sin(x),label='sin',color='green', linestyle='-.', linewidth=5, markersize=12)\n",
    "plt.legend()\n",
    "plt.axis('tight')"
   ]
  },
  {
   "cell_type": "code",
   "execution_count": 122,
   "metadata": {},
   "outputs": [],
   "source": [
    "fig.savefig('figure.svg')"
   ]
  },
  {
   "cell_type": "code",
   "execution_count": 139,
   "metadata": {},
   "outputs": [
    {
     "data": {
      "text/plain": [
       "([<matplotlib.axis.XTick at 0x124576a6a60>,\n",
       "  <matplotlib.axis.XTick at 0x124576a6a30>,\n",
       "  <matplotlib.axis.XTick at 0x124576a2730>,\n",
       "  <matplotlib.axis.XTick at 0x124576cce50>,\n",
       "  <matplotlib.axis.XTick at 0x124576d73a0>,\n",
       "  <matplotlib.axis.XTick at 0x124576d78b0>,\n",
       "  <matplotlib.axis.XTick at 0x124576d7dc0>,\n",
       "  <matplotlib.axis.XTick at 0x124576d7580>,\n",
       "  <matplotlib.axis.XTick at 0x124576dc160>,\n",
       "  <matplotlib.axis.XTick at 0x124576dc670>],\n",
       " [Text(0, 0, 'a'),\n",
       "  Text(0, 0, 's'),\n",
       "  Text(0, 0, 'd'),\n",
       "  Text(0, 0, 'f'),\n",
       "  Text(0, 0, 'g'),\n",
       "  Text(0, 0, 'h'),\n",
       "  Text(0, 0, 'j'),\n",
       "  Text(0, 0, 'k'),\n",
       "  Text(0, 0, 'l'),\n",
       "  Text(0, 0, 'o')])"
      ]
     },
     "execution_count": 139,
     "metadata": {},
     "output_type": "execute_result"
    },
    {
     "data": {
      "image/png": "[encoded data removed]",
      "text/plain": [
       "<Figure size 432x288 with 1 Axes>"
      ]
     },
     "metadata": {
      "needs_background": "light"
     },
     "output_type": "display_data"
    }
   ],
   "source": [
    "x1=np.arange(10)\n",
    "plt.bar(x1,height=[2,4,11,6,7,8,5,3,9,10])\n",
    "plt.xticks(x1,[\"a\",\"s\",\"d\",\"f\",\"g\",\"h\",\"j\",\"k\",\"l\",\"o\"])"
   ]
  },
  {
   "cell_type": "code",
   "execution_count": 156,
   "metadata": {},
   "outputs": [
    {
     "data": {
      "text/plain": [
       "(array([0.00260658, 0.00156395, 0.01094764, 0.01981002, 0.04900374,\n",
       "        0.10165669, 0.17672625, 0.2898519 , 0.36700673, 0.37639042,\n",
       "        0.38316753, 0.30757666, 0.23928421, 0.15222438, 0.06933508,\n",
       "        0.04066268, 0.01511817, 0.00052132, 0.00260658, 0.00052132]),\n",
       " array([-3.74535588, -3.36171168, -2.97806749, -2.59442329, -2.21077909,\n",
       "        -1.8271349 , -1.4434907 , -1.05984651, -0.67620231, -0.29255811,\n",
       "         0.09108608,  0.47473028,  0.85837447,  1.24201867,  1.62566287,\n",
       "         2.00930706,  2.39295126,  2.77659545,  3.16023965,  3.54388384,\n",
       "         3.92752804]),\n",
       " <a list of 20 Patch objects>)"
      ]
     },
     "execution_count": 156,
     "metadata": {},
     "output_type": "execute_result"
    },
    {
     "data": {
      "image/png": "[encoded data removed]",
      "text/plain": [
       "<Figure size 432x288 with 1 Axes>"
      ]
     },
     "metadata": {
      "needs_background": "light"
     },
     "output_type": "display_data"
    }
   ],
   "source": [
    "np.random.seed(12345)\n",
    "x2=np.random.normal(loc=0,scale=1,size=5000)\n",
    "plt.hist(x2,density=True,bins=20)"
   ]
  },
  {
   "cell_type": "code",
   "execution_count": null,
   "metadata": {},
   "outputs": [],
   "source": []
  }
 ],
 "metadata": {
  "kernelspec": {
   "display_name": "Python 3",
   "language": "python",
   "name": "python3"
  },
  "language_info": {
   "codemirror_mode": {
    "name": "ipython",
    "version": 3
   },
   "file_extension": ".py",
   "mimetype": "text/x-python",
   "name": "python",
   "nbconvert_exporter": "python",
   "pygments_lexer": "ipython3",
   "version": "3.8.3"
  }
 },
 "nbformat": 4,
 "nbformat_minor": 4
}
