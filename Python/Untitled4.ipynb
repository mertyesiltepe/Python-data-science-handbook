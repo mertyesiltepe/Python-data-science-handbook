{
 "cells": [
  {
   "cell_type": "code",
   "execution_count": 49,
   "metadata": {},
   "outputs": [],
   "source": [
    "import numpy as np\n",
    "import pandas as pd\n",
    "import matplotlib.pyplot as plt"
   ]
  },
  {
   "cell_type": "code",
   "execution_count": 50,
   "metadata": {},
   "outputs": [],
   "source": [
    "veriler=pd.read_csv('C:/Users/mert_/Desktop/uygulama_dersleri/Veriler/heart_disease.csv')"
   ]
  },
  {
   "cell_type": "code",
   "execution_count": 51,
   "metadata": {},
   "outputs": [
    {
     "data": {
      "text/html": [
       "<div>\n",
       "<style scoped>\n",
       "    .dataframe tbody tr th:only-of-type {\n",
       "        vertical-align: middle;\n",
       "    }\n",
       "\n",
       "    .dataframe tbody tr th {\n",
       "        vertical-align: top;\n",
       "    }\n",
       "\n",
       "    .dataframe thead th {\n",
       "        text-align: right;\n",
       "    }\n",
       "</style>\n",
       "<table border=\"1\" class=\"dataframe\">\n",
       "  <thead>\n",
       "    <tr style=\"text-align: right;\">\n",
       "      <th></th>\n",
       "      <th>site</th>\n",
       "      <th>age</th>\n",
       "      <th>is_male</th>\n",
       "      <th>chest_pain</th>\n",
       "      <th>rest_blood_press</th>\n",
       "      <th>cholesterol</th>\n",
       "      <th>high_blood_sugar</th>\n",
       "      <th>rest_ecg</th>\n",
       "      <th>max_heart_rate</th>\n",
       "      <th>exer_angina</th>\n",
       "      <th>ST_depression</th>\n",
       "      <th>Peak_ST_seg</th>\n",
       "      <th>major_vessels</th>\n",
       "      <th>thal</th>\n",
       "      <th>has_heart_disease</th>\n",
       "    </tr>\n",
       "  </thead>\n",
       "  <tbody>\n",
       "    <tr>\n",
       "      <th>0</th>\n",
       "      <td>cleve</td>\n",
       "      <td>63</td>\n",
       "      <td>1</td>\n",
       "      <td>1</td>\n",
       "      <td>145</td>\n",
       "      <td>233</td>\n",
       "      <td>1</td>\n",
       "      <td>2</td>\n",
       "      <td>150</td>\n",
       "      <td>0</td>\n",
       "      <td>2.3</td>\n",
       "      <td>3</td>\n",
       "      <td>0</td>\n",
       "      <td>6</td>\n",
       "      <td>0</td>\n",
       "    </tr>\n",
       "    <tr>\n",
       "      <th>1</th>\n",
       "      <td>cleve</td>\n",
       "      <td>67</td>\n",
       "      <td>1</td>\n",
       "      <td>4</td>\n",
       "      <td>160</td>\n",
       "      <td>286</td>\n",
       "      <td>0</td>\n",
       "      <td>2</td>\n",
       "      <td>108</td>\n",
       "      <td>1</td>\n",
       "      <td>1.5</td>\n",
       "      <td>2</td>\n",
       "      <td>3</td>\n",
       "      <td>3</td>\n",
       "      <td>2</td>\n",
       "    </tr>\n",
       "    <tr>\n",
       "      <th>2</th>\n",
       "      <td>cleve</td>\n",
       "      <td>67</td>\n",
       "      <td>1</td>\n",
       "      <td>4</td>\n",
       "      <td>120</td>\n",
       "      <td>229</td>\n",
       "      <td>0</td>\n",
       "      <td>2</td>\n",
       "      <td>129</td>\n",
       "      <td>1</td>\n",
       "      <td>2.6</td>\n",
       "      <td>2</td>\n",
       "      <td>2</td>\n",
       "      <td>7</td>\n",
       "      <td>1</td>\n",
       "    </tr>\n",
       "    <tr>\n",
       "      <th>3</th>\n",
       "      <td>cleve</td>\n",
       "      <td>37</td>\n",
       "      <td>1</td>\n",
       "      <td>3</td>\n",
       "      <td>130</td>\n",
       "      <td>250</td>\n",
       "      <td>0</td>\n",
       "      <td>0</td>\n",
       "      <td>187</td>\n",
       "      <td>0</td>\n",
       "      <td>3.5</td>\n",
       "      <td>3</td>\n",
       "      <td>0</td>\n",
       "      <td>3</td>\n",
       "      <td>0</td>\n",
       "    </tr>\n",
       "    <tr>\n",
       "      <th>4</th>\n",
       "      <td>cleve</td>\n",
       "      <td>41</td>\n",
       "      <td>0</td>\n",
       "      <td>2</td>\n",
       "      <td>130</td>\n",
       "      <td>204</td>\n",
       "      <td>0</td>\n",
       "      <td>2</td>\n",
       "      <td>172</td>\n",
       "      <td>0</td>\n",
       "      <td>1.4</td>\n",
       "      <td>1</td>\n",
       "      <td>0</td>\n",
       "      <td>3</td>\n",
       "      <td>0</td>\n",
       "    </tr>\n",
       "  </tbody>\n",
       "</table>\n",
       "</div>"
      ],
      "text/plain": [
       "    site  age  is_male  chest_pain rest_blood_press cholesterol  \\\n",
       "0  cleve   63        1           1              145         233   \n",
       "1  cleve   67        1           4              160         286   \n",
       "2  cleve   67        1           4              120         229   \n",
       "3  cleve   37        1           3              130         250   \n",
       "4  cleve   41        0           2              130         204   \n",
       "\n",
       "  high_blood_sugar rest_ecg max_heart_rate exer_angina ST_depression  \\\n",
       "0                1        2            150           0           2.3   \n",
       "1                0        2            108           1           1.5   \n",
       "2                0        2            129           1           2.6   \n",
       "3                0        0            187           0           3.5   \n",
       "4                0        2            172           0           1.4   \n",
       "\n",
       "  Peak_ST_seg major_vessels thal  has_heart_disease  \n",
       "0           3             0    6                  0  \n",
       "1           2             3    3                  2  \n",
       "2           2             2    7                  1  \n",
       "3           3             0    3                  0  \n",
       "4           1             0    3                  0  "
      ]
     },
     "execution_count": 51,
     "metadata": {},
     "output_type": "execute_result"
    }
   ],
   "source": [
    "veriler.head()"
   ]
  },
  {
   "cell_type": "code",
   "execution_count": 52,
   "metadata": {},
   "outputs": [
    {
     "name": "stdout",
     "output_type": "stream",
     "text": [
      "<class 'pandas.core.frame.DataFrame'>\n",
      "RangeIndex: 920 entries, 0 to 919\n",
      "Data columns (total 15 columns):\n",
      " #   Column             Non-Null Count  Dtype \n",
      "---  ------             --------------  ----- \n",
      " 0   site               920 non-null    object\n",
      " 1   age                920 non-null    int64 \n",
      " 2   is_male            920 non-null    int64 \n",
      " 3   chest_pain         920 non-null    int64 \n",
      " 4   rest_blood_press   920 non-null    object\n",
      " 5   cholesterol        920 non-null    object\n",
      " 6   high_blood_sugar   920 non-null    object\n",
      " 7   rest_ecg           920 non-null    object\n",
      " 8   max_heart_rate     920 non-null    object\n",
      " 9   exer_angina        920 non-null    object\n",
      " 10  ST_depression      920 non-null    object\n",
      " 11  Peak_ST_seg        920 non-null    object\n",
      " 12  major_vessels      920 non-null    object\n",
      " 13  thal               920 non-null    object\n",
      " 14  has_heart_disease  920 non-null    int64 \n",
      "dtypes: int64(4), object(11)\n",
      "memory usage: 107.9+ KB\n"
     ]
    }
   ],
   "source": [
    "veriler.info()"
   ]
  },
  {
   "cell_type": "code",
   "execution_count": 53,
   "metadata": {},
   "outputs": [
    {
     "data": {
      "text/plain": [
       "array(['150', '108', '129', '187', '172', '178', '160', '163', '147',\n",
       "       '155', '148', '153', '142', '173', '162', '174', '168', '139',\n",
       "       '171', '144', '132', '158', '114', '151', '161', '179', '120',\n",
       "       '112', '137', '157', '169', '165', '123', '128', '152', '140',\n",
       "       '188', '109', '125', '131', '170', '113', '99', '177', '141',\n",
       "       '180', '111', '143', '182', '156', '115', '149', '145', '146',\n",
       "       '175', '186', '185', '159', '130', '190', '136', '97', '127',\n",
       "       '154', '133', '126', '202', '103', '166', '164', '184', '124',\n",
       "       '122', '96', '138', '88', '105', '194', '195', '106', '167', '95',\n",
       "       '192', '117', '121', '116', '71', '118', '181', '134', '90', '176',\n",
       "       '110', '92', '104', '60', '82', '135', '83', '98', '100', '94',\n",
       "       '119', '63', '70', '77', '72', '78', '86', '93', '67', '?', '84',\n",
       "       '80', '107', '102', '69', '73', '87', '91'], dtype=object)"
      ]
     },
     "execution_count": 53,
     "metadata": {},
     "output_type": "execute_result"
    }
   ],
   "source": [
    "veriler.max_heart_rate.unique()"
   ]
  },
  {
   "cell_type": "code",
   "execution_count": 54,
   "metadata": {},
   "outputs": [],
   "source": [
    "veriler.max_heart_rate.replace(to_replace='?',value=0,inplace=True)"
   ]
  },
  {
   "cell_type": "code",
   "execution_count": 59,
   "metadata": {},
   "outputs": [],
   "source": [
    "veriler.max_heart_rate=veriler.max_heart_rate.astype('int64')"
   ]
  },
  {
   "cell_type": "code",
   "execution_count": 62,
   "metadata": {},
   "outputs": [
    {
     "data": {
      "text/plain": [
       "numpy.int64"
      ]
     },
     "execution_count": 62,
     "metadata": {},
     "output_type": "execute_result"
    }
   ],
   "source": [
    "type(veriler.max_heart_rate[0])"
   ]
  },
  {
   "cell_type": "code",
   "execution_count": null,
   "metadata": {},
   "outputs": [],
   "source": []
  }
 ],
 "metadata": {
  "kernelspec": {
   "display_name": "Python 3",
   "language": "python",
   "name": "python3"
  },
  "language_info": {
   "codemirror_mode": {
    "name": "ipython",
    "version": 3
   },
   "file_extension": ".py",
   "mimetype": "text/x-python",
   "name": "python",
   "nbconvert_exporter": "python",
   "pygments_lexer": "ipython3",
   "version": "3.8.3"
  }
 },
 "nbformat": 4,
 "nbformat_minor": 4
}
