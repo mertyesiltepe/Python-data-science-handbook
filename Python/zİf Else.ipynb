{
 "cells": [
  {
   "cell_type": "code",
   "execution_count": 9,
   "metadata": {},
   "outputs": [
    {
     "name": "stdout",
     "output_type": "stream",
     "text": [
      "Bir sayı giriniz: 500\n",
      "Sayı 500 e eşittir\n"
     ]
    }
   ],
   "source": [
    "sayı=int(input(\"Bir sayı giriniz: \"))\n",
    "if sayı<100:\n",
    "    print(\"Sayı 100 den küçüktür\")\n",
    "elif sayı==100:\n",
    "    print(\"Sayı 100 e eşittir\")\n",
    "elif sayı>500:\n",
    "    print(\"Sayı 500 den büyüktür\")\n",
    "elif sayı==500:\n",
    "    print(\"Sayı 500 e eşittir\")\n",
    "else:\n",
    "    print(\"Sayı 500 ile 100 arasındadır\")"
   ]
  },
  {
   "cell_type": "code",
   "execution_count": 2,
   "metadata": {},
   "outputs": [
    {
     "name": "stdout",
     "output_type": "stream",
     "text": [
      "Parolayı giriniz: asdf123\n",
      "Parola doğru\n"
     ]
    }
   ],
   "source": [
    "parola=\"asdf123\"\n",
    "sifre=input(\"Parolayı giriniz: \")\n",
    "\n",
    "if sifre==parola:\n",
    "    print(\"Parola doğru\")\n",
    "elif sifre!=parola:\n",
    "    print(\"Parola yanlış\")\n"
   ]
  },
  {
   "cell_type": "code",
   "execution_count": 10,
   "metadata": {},
   "outputs": [],
   "source": [
    "def en_buyuk(sayı1,sayı2,sayı3):\n",
    "    if sayı1>sayı2 and sayı1>sayı3:\n",
    "        return(sayı1)\n",
    "    elif sayı2>sayı1 and sayı2>sayı3:\n",
    "        return(sayı2)\n",
    "    else:\n",
    "        return(sayı3)"
   ]
  },
  {
   "cell_type": "code",
   "execution_count": 11,
   "metadata": {},
   "outputs": [
    {
     "name": "stdout",
     "output_type": "stream",
     "text": [
      "8\n"
     ]
    }
   ],
   "source": [
    "print(en_buyuk(5,8,7))"
   ]
  },
  {
   "cell_type": "code",
   "execution_count": null,
   "metadata": {},
   "outputs": [],
   "source": []
  }
 ],
 "metadata": {
  "kernelspec": {
   "display_name": "Python 3",
   "language": "python",
   "name": "python3"
  },
  "language_info": {
   "codemirror_mode": {
    "name": "ipython",
    "version": 3
   },
   "file_extension": ".py",
   "mimetype": "text/x-python",
   "name": "python",
   "nbconvert_exporter": "python",
   "pygments_lexer": "ipython3",
   "version": "3.8.3"
  }
 },
 "nbformat": 4,
 "nbformat_minor": 4
}
