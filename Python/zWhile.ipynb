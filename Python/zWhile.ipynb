{
 "cells": [
  {
   "cell_type": "code",
   "execution_count": 2,
   "metadata": {},
   "outputs": [
    {
     "name": "stdout",
     "output_type": "stream",
     "text": [
      "selam\n",
      "selam\n",
      "selam\n",
      "selam\n"
     ]
    }
   ],
   "source": [
    "i=1\n",
    "while i<=4:\n",
    "    print(\"selam\")\n",
    "    i=i+1"
   ]
  },
  {
   "cell_type": "code",
   "execution_count": 4,
   "metadata": {},
   "outputs": [
    {
     "name": "stdout",
     "output_type": "stream",
     "text": [
      "Tahmininizi giriniz : 6\n",
      "Tahmininiz yanlış ! \n",
      "Tahmininizi giriniz : 7\n",
      "Tahmininiz yanlış ! \n",
      "Tahmininizi giriniz : python\n",
      "Tahmininiz doğru tebrikler ..\n"
     ]
    }
   ],
   "source": [
    "gizli_kelime = \"python\"\n",
    "tahmin = \"\"\n",
    "\n",
    "tahmin_limit  = 0\n",
    "tahmin_sayisi = 3\n",
    "\n",
    "\n",
    "while tahmin != gizli_kelime:\n",
    "\n",
    "    if tahmin_limit < tahmin_sayisi:\n",
    "        tahmin = input(\"Tahmininizi giriniz : \")\n",
    "        tahmin_limit += 1\n",
    "        \n",
    "    else:\n",
    "        print(\"Tahmin sınırını aştınız !\")\n",
    "        break\n",
    "\n",
    "    if tahmin == gizli_kelime:\n",
    "        print(\"Tahmininiz doğru tebrikler ..\")\n",
    "        break\n",
    "    else:\n",
    "        print(\"Tahmininiz yanlış ! \")"
   ]
  }
 ],
 "metadata": {
  "kernelspec": {
   "display_name": "Python 3",
   "language": "python",
   "name": "python3"
  },
  "language_info": {
   "codemirror_mode": {
    "name": "ipython",
    "version": 3
   },
   "file_extension": ".py",
   "mimetype": "text/x-python",
   "name": "python",
   "nbconvert_exporter": "python",
   "pygments_lexer": "ipython3",
   "version": "3.8.3"
  }
 },
 "nbformat": 4,
 "nbformat_minor": 4
}
