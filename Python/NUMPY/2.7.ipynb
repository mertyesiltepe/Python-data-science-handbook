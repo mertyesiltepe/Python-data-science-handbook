{
 "cells": [
  {
   "cell_type": "markdown",
   "metadata": {},
   "source": [
    "# Fancy Indexing"
   ]
  },
  {
   "cell_type": "code",
   "execution_count": 5,
   "metadata": {},
   "outputs": [
    {
     "name": "stdout",
     "output_type": "stream",
     "text": [
      "[51 92 14 71 60 20 82 86 74 74]\n"
     ]
    }
   ],
   "source": [
    "import numpy as np\n",
    "rand = np.random.RandomState(42)\n",
    "x = rand.randint(100, size=10)\n",
    "print(x)"
   ]
  },
  {
   "cell_type": "code",
   "execution_count": 9,
   "metadata": {},
   "outputs": [
    {
     "data": {
      "text/plain": [
       "[71, 86, 14]"
      ]
     },
     "execution_count": 9,
     "metadata": {},
     "output_type": "execute_result"
    }
   ],
   "source": [
    "[x[3], x[7], x[2]]   #ya da aşağıdaki gibi"
   ]
  },
  {
   "cell_type": "code",
   "execution_count": 11,
   "metadata": {},
   "outputs": [
    {
     "data": {
      "text/plain": [
       "array([71, 86, 14])"
      ]
     },
     "execution_count": 11,
     "metadata": {},
     "output_type": "execute_result"
    }
   ],
   "source": [
    "ind = [3, 7, 2]  # <-----------\n",
    "x[ind]"
   ]
  },
  {
   "cell_type": "code",
   "execution_count": 12,
   "metadata": {},
   "outputs": [
    {
     "data": {
      "text/plain": [
       "array([[71, 86],\n",
       "       [60, 20]])"
      ]
     },
     "execution_count": 12,
     "metadata": {},
     "output_type": "execute_result"
    }
   ],
   "source": [
    "ind = np.array([[3, 7],\n",
    "                [4, 5]])\n",
    "x[ind]"
   ]
  },
  {
   "cell_type": "code",
   "execution_count": 13,
   "metadata": {},
   "outputs": [
    {
     "data": {
      "text/plain": [
       "array([[ 0,  1,  2,  3],\n",
       "       [ 4,  5,  6,  7],\n",
       "       [ 8,  9, 10, 11]])"
      ]
     },
     "execution_count": 13,
     "metadata": {},
     "output_type": "execute_result"
    }
   ],
   "source": [
    "X = np.arange(12).reshape((3, 4))\n",
    "X"
   ]
  },
  {
   "cell_type": "code",
   "execution_count": 14,
   "metadata": {},
   "outputs": [
    {
     "data": {
      "text/plain": [
       "array([ 2,  5, 11])"
      ]
     },
     "execution_count": 14,
     "metadata": {},
     "output_type": "execute_result"
    }
   ],
   "source": [
    "row = np.array([0, 1, 2])\n",
    "col = np.array([2, 1, 3])\n",
    "X[row, col]"
   ]
  },
  {
   "cell_type": "code",
   "execution_count": 15,
   "metadata": {},
   "outputs": [
    {
     "data": {
      "text/plain": [
       "array([[ 2,  1,  3],\n",
       "       [ 6,  5,  7],\n",
       "       [10,  9, 11]])"
      ]
     },
     "execution_count": 15,
     "metadata": {},
     "output_type": "execute_result"
    }
   ],
   "source": [
    "X[row[:, np.newaxis], col]"
   ]
  },
  {
   "cell_type": "code",
   "execution_count": 18,
   "metadata": {},
   "outputs": [
    {
     "data": {
      "text/plain": [
       "array([[0, 0, 0],\n",
       "       [2, 1, 3],\n",
       "       [4, 2, 6]])"
      ]
     },
     "execution_count": 18,
     "metadata": {},
     "output_type": "execute_result"
    }
   ],
   "source": [
    "row[:, np.newaxis] * col"
   ]
  },
  {
   "cell_type": "code",
   "execution_count": 20,
   "metadata": {},
   "outputs": [
    {
     "data": {
      "text/plain": [
       "array([10,  8,  9])"
      ]
     },
     "execution_count": 20,
     "metadata": {},
     "output_type": "execute_result"
    }
   ],
   "source": [
    "X[2, [2, 0, 1]]  # 2.satırın sırasıyla 2.sütünu,0. sütünu ve 1.sütunu"
   ]
  },
  {
   "cell_type": "code",
   "execution_count": 21,
   "metadata": {},
   "outputs": [
    {
     "data": {
      "text/plain": [
       "array([[ 6,  4,  5],\n",
       "       [10,  8,  9]])"
      ]
     },
     "execution_count": 21,
     "metadata": {},
     "output_type": "execute_result"
    }
   ],
   "source": [
    "X[1:, [2, 0, 1]]"
   ]
  },
  {
   "cell_type": "code",
   "execution_count": 27,
   "metadata": {},
   "outputs": [
    {
     "data": {
      "text/plain": [
       "array([[ 2.41772472,  1.04994578],\n",
       "       [ 0.59147371, -2.05560376],\n",
       "       [ 0.60288202,  0.08970253],\n",
       "       [ 1.86784239,  2.18118806],\n",
       "       [ 0.5323604 , -3.78814573],\n",
       "       [ 2.09496296,  1.66440534],\n",
       "       [ 1.19096659,  0.40930567],\n",
       "       [ 2.23089666,  2.26335881],\n",
       "       [ 1.84860796,  1.6690293 ],\n",
       "       [ 0.44993068, -0.34239731],\n",
       "       [-0.22513371, -2.25024579],\n",
       "       [ 1.8087081 ,  1.94882657],\n",
       "       [-1.58183919, -5.13498892],\n",
       "       [ 0.80155334,  1.23329318],\n",
       "       [ 1.61431554,  0.75961583],\n",
       "       [ 0.21169292, -3.32069583],\n",
       "       [ 2.40788592,  4.41777638],\n",
       "       [ 0.92567626, -0.04157399],\n",
       "       [ 1.42517862,  0.76832864],\n",
       "       [ 1.66279549,  0.92255999],\n",
       "       [ 1.51105998,  0.78629153],\n",
       "       [ 1.97413881,  1.76169223],\n",
       "       [ 3.05024707,  5.69078566],\n",
       "       [ 0.6719462 , -0.8838966 ],\n",
       "       [ 0.67604732, -0.48597291],\n",
       "       [ 1.8727001 ,  1.53042365],\n",
       "       [ 0.43249095, -1.14548789],\n",
       "       [-1.50758072, -4.30077981],\n",
       "       [ 0.42951251, -2.20177456],\n",
       "       [ 1.90504934,  1.10037483],\n",
       "       [ 1.79045592, -1.05845875],\n",
       "       [ 1.54108425,  0.97430549],\n",
       "       [ 2.10298035,  3.52629369],\n",
       "       [ 1.94996905,  2.58323073],\n",
       "       [-0.95536983, -6.46442027],\n",
       "       [ 1.29317185,  0.26674777],\n",
       "       [ 1.26521104,  1.46316595],\n",
       "       [-0.31740795, -2.34528903],\n",
       "       [ 0.73688484,  1.99916198],\n",
       "       [ 3.03066149,  3.78474085],\n",
       "       [ 0.80898102, -0.36440134],\n",
       "       [-0.05558508, -0.83808298],\n",
       "       [ 1.06720543,  0.28534814],\n",
       "       [ 1.32411764,  1.41929139],\n",
       "       [ 1.41633361,  0.65977343],\n",
       "       [ 0.10183995, -1.04815984],\n",
       "       [ 2.90196052,  4.98224264],\n",
       "       [ 0.88699801,  0.75288225],\n",
       "       [ 0.73319194,  0.76411737],\n",
       "       [ 2.47843445,  1.1551648 ],\n",
       "       [ 0.35126539, -2.47923037],\n",
       "       [ 2.45381904,  3.52720575],\n",
       "       [ 0.90598364,  0.66394683],\n",
       "       [ 0.13892755, -1.97531397],\n",
       "       [ 1.70765567,  2.0190149 ],\n",
       "       [ 0.62965765, -0.2782729 ],\n",
       "       [ 1.96143208,  1.8877419 ],\n",
       "       [ 0.05206459, -0.93842146],\n",
       "       [ 0.07620339, -2.14142676],\n",
       "       [ 1.29575885,  1.15111725],\n",
       "       [ 2.3209662 ,  2.30477853],\n",
       "       [-0.54869875, -3.30373054],\n",
       "       [ 1.0037752 ,  0.90656738],\n",
       "       [-0.0188544 , -2.94100434],\n",
       "       [ 1.60636183,  0.86570748],\n",
       "       [-0.26304589, -1.99549152],\n",
       "       [-0.66638335, -2.93130132],\n",
       "       [ 2.40045249,  3.68510497],\n",
       "       [ 2.17410444,  2.27936436],\n",
       "       [ 0.52263447, -0.24805286],\n",
       "       [ 2.71266363,  1.61847733],\n",
       "       [-0.1784398 ,  0.01637592],\n",
       "       [ 1.16945171,  0.45987352],\n",
       "       [-0.87239281, -3.88144747],\n",
       "       [ 0.6304558 , -0.41361498],\n",
       "       [ 1.20496989, -0.73882022],\n",
       "       [ 1.51727587,  3.29110245],\n",
       "       [ 0.79180907, -0.39427485],\n",
       "       [ 0.78445569,  0.32505762],\n",
       "       [-1.54595275, -5.57935139],\n",
       "       [ 1.59437168,  1.29054812],\n",
       "       [ 0.23355642, -2.48117731],\n",
       "       [ 1.10073466, -2.26875306],\n",
       "       [ 0.97200225,  0.61230131],\n",
       "       [ 0.13977353, -2.96268053],\n",
       "       [ 2.48815287,  3.31050113],\n",
       "       [ 2.09678545,  2.48655818],\n",
       "       [ 1.51096194, -0.19426105],\n",
       "       [ 0.31695832, -1.81917557],\n",
       "       [ 0.70779991, -2.70234446],\n",
       "       [ 1.74204224,  2.35068728],\n",
       "       [ 1.80124697,  1.75628919],\n",
       "       [ 0.93879216,  0.02352624],\n",
       "       [ 1.56886006,  1.53493629],\n",
       "       [ 1.46494015,  1.85230073],\n",
       "       [ 1.04677209,  0.28072825],\n",
       "       [-0.95063227, -5.90756412],\n",
       "       [ 0.73480697, -3.51869378],\n",
       "       [ 3.39494206,  4.43904245],\n",
       "       [ 2.00994105,  2.65869862]])"
      ]
     },
     "execution_count": 27,
     "metadata": {},
     "output_type": "execute_result"
    }
   ],
   "source": [
    "mean = [1, 0]\n",
    "cov = [[1, 2],\n",
    "       [2, 5]]\n",
    "X = rand.multivariate_normal(mean, cov, 100)\n",
    "X"
   ]
  },
  {
   "cell_type": "code",
   "execution_count": 28,
   "metadata": {},
   "outputs": [
    {
     "data": {
      "image/png": "[encoded data removed]",
      "text/plain": [
       "<Figure size 432x288 with 1 Axes>"
      ]
     },
     "metadata": {},
     "output_type": "display_data"
    }
   ],
   "source": [
    "%matplotlib inline\n",
    "import matplotlib.pyplot as plt\n",
    "import seaborn; seaborn.set() # for plot styling\n",
    "plt.scatter(X[:, 0], X[:, 1]);"
   ]
  },
  {
   "cell_type": "code",
   "execution_count": 29,
   "metadata": {},
   "outputs": [
    {
     "data": {
      "text/plain": [
       "array([31, 21, 52, 79,  3, 96, 42, 17, 43, 73, 27, 61, 59, 57, 90,  8, 89,\n",
       "       39, 13, 94])"
      ]
     },
     "execution_count": 29,
     "metadata": {},
     "output_type": "execute_result"
    }
   ],
   "source": [
    "indices = np.random.choice(X.shape[0], 20, replace=False)\n",
    "indices"
   ]
  },
  {
   "cell_type": "code",
   "execution_count": 30,
   "metadata": {},
   "outputs": [
    {
     "data": {
      "text/plain": [
       "(20, 2)"
      ]
     },
     "execution_count": 30,
     "metadata": {},
     "output_type": "execute_result"
    }
   ],
   "source": [
    "selection = X[indices] # fancy indexing here\n",
    "selection.shape"
   ]
  },
  {
   "cell_type": "code",
   "execution_count": 31,
   "metadata": {},
   "outputs": [
    {
     "data": {
      "image/png": "[encoded data removed]",
      "text/plain": [
       "<Figure size 432x288 with 1 Axes>"
      ]
     },
     "metadata": {},
     "output_type": "display_data"
    }
   ],
   "source": [
    "plt.scatter(X[:, 0], X[:, 1], alpha=0.3)\n",
    "plt.scatter(selection[:, 0], selection[:, 1],\n",
    "facecolor='none', s=200);"
   ]
  },
  {
   "cell_type": "code",
   "execution_count": 41,
   "metadata": {},
   "outputs": [
    {
     "name": "stdout",
     "output_type": "stream",
     "text": [
      "[ 0 99 99  3 99  5  6  7 99  9]\n"
     ]
    }
   ],
   "source": [
    "x = np.arange(10)\n",
    "i = np.array([2, 1, 8, 4])\n",
    "x[i] = 99\n",
    "print(x)"
   ]
  },
  {
   "cell_type": "code",
   "execution_count": 42,
   "metadata": {},
   "outputs": [
    {
     "name": "stdout",
     "output_type": "stream",
     "text": [
      "[ 0 89 89  3 89  5  6  7 89  9]\n"
     ]
    }
   ],
   "source": [
    "x[i] -= 10\n",
    "print(x)"
   ]
  },
  {
   "cell_type": "code",
   "execution_count": 44,
   "metadata": {},
   "outputs": [
    {
     "name": "stdout",
     "output_type": "stream",
     "text": [
      "[6. 0. 0. 0. 0. 0. 0. 0. 0. 0.]\n"
     ]
    }
   ],
   "source": [
    "x = np.zeros(10)\n",
    "x[[0, 0]] = [4, 6]\n",
    "print(x)"
   ]
  },
  {
   "cell_type": "code",
   "execution_count": 47,
   "metadata": {},
   "outputs": [
    {
     "data": {
      "text/plain": [
       "array([0., 0., 2., 3., 4., 0., 0., 0., 0., 0.])"
      ]
     },
     "execution_count": 47,
     "metadata": {},
     "output_type": "execute_result"
    }
   ],
   "source": [
    "i = [2, 3, 3, 4, 4, 4]\n",
    "x[i] += 1                   #indeks 3'ün 2, indeks 4'ün 3 olması için aşağıdaki gibi kullanılmalı!\n",
    "x"
   ]
  },
  {
   "cell_type": "code",
   "execution_count": 48,
   "metadata": {},
   "outputs": [
    {
     "name": "stdout",
     "output_type": "stream",
     "text": [
      "[0. 0. 1. 2. 3. 0. 0. 0. 0. 0.]\n"
     ]
    }
   ],
   "source": [
    "x = np.zeros(10)\n",
    "np.add.at(x, i, 1)\n",
    "print(x)"
   ]
  },
  {
   "cell_type": "code",
   "execution_count": 63,
   "metadata": {},
   "outputs": [
    {
     "data": {
      "text/plain": [
       "array([ 0.49671415, -0.1382643 ,  0.64768854,  1.52302986, -0.23415337,\n",
       "       -0.23413696,  1.57921282,  0.76743473, -0.46947439,  0.54256004,\n",
       "       -0.46341769, -0.46572975,  0.24196227, -1.91328024, -1.72491783,\n",
       "       -0.56228753, -1.01283112,  0.31424733, -0.90802408, -1.4123037 ,\n",
       "        1.46564877, -0.2257763 ,  0.0675282 , -1.42474819, -0.54438272,\n",
       "        0.11092259, -1.15099358,  0.37569802, -0.60063869, -0.29169375,\n",
       "       -0.60170661,  1.85227818, -0.01349722, -1.05771093,  0.82254491,\n",
       "       -1.22084365,  0.2088636 , -1.95967012, -1.32818605,  0.19686124,\n",
       "        0.73846658,  0.17136828, -0.11564828, -0.3011037 , -1.47852199,\n",
       "       -0.71984421, -0.46063877,  1.05712223,  0.34361829, -1.76304016,\n",
       "        0.32408397, -0.38508228, -0.676922  ,  0.61167629,  1.03099952,\n",
       "        0.93128012, -0.83921752, -0.30921238,  0.33126343,  0.97554513,\n",
       "       -0.47917424, -0.18565898, -1.10633497, -1.19620662,  0.81252582,\n",
       "        1.35624003, -0.07201012,  1.0035329 ,  0.36163603, -0.64511975,\n",
       "        0.36139561,  1.53803657, -0.03582604,  1.56464366, -2.6197451 ,\n",
       "        0.8219025 ,  0.08704707, -0.29900735,  0.09176078, -1.98756891,\n",
       "       -0.21967189,  0.35711257,  1.47789404, -0.51827022, -0.8084936 ,\n",
       "       -0.50175704,  0.91540212,  0.32875111, -0.5297602 ,  0.51326743,\n",
       "        0.09707755,  0.96864499, -0.70205309, -0.32766215, -0.39210815,\n",
       "       -1.46351495,  0.29612028,  0.26105527,  0.00511346, -0.23458713])"
      ]
     },
     "execution_count": 63,
     "metadata": {},
     "output_type": "execute_result"
    }
   ],
   "source": [
    "np.random.seed(42)\n",
    "x = np.random.randn(100)\n",
    "x"
   ]
  },
  {
   "cell_type": "code",
   "execution_count": 93,
   "metadata": {},
   "outputs": [],
   "source": [
    "bins = np.linspace(-5, 5, 20)\n",
    "counts = np.zeros_like(bins)"
   ]
  },
  {
   "cell_type": "code",
   "execution_count": 94,
   "metadata": {},
   "outputs": [],
   "source": [
    "i = np.searchsorted(bins, x)"
   ]
  },
  {
   "cell_type": "code",
   "execution_count": 95,
   "metadata": {},
   "outputs": [],
   "source": [
    "np.add.at(counts, i, 1)"
   ]
  },
  {
   "cell_type": "code",
   "execution_count": 96,
   "metadata": {},
   "outputs": [
    {
     "name": "stderr",
     "output_type": "stream",
     "text": [
      "<ipython-input-96-5e1ee5809951>:1: MatplotlibDeprecationWarning: Passing the drawstyle with the linestyle as a single string is deprecated since Matplotlib 3.1 and support will be removed in 3.3; please pass the drawstyle separately using the drawstyle keyword argument to Line2D or set_drawstyle() method (or ds/set_ds()).\n",
      "  plt.plot(bins, counts, linestyle='steps');\n"
     ]
    },
    {
     "data": {
      "image/png": "[encoded data removed]",
      "text/plain": [
       "<Figure size 432x288 with 1 Axes>"
      ]
     },
     "metadata": {},
     "output_type": "display_data"
    }
   ],
   "source": [
    "plt.plot(bins, counts, linestyle='steps');"
   ]
  },
  {
   "cell_type": "code",
   "execution_count": null,
   "metadata": {},
   "outputs": [],
   "source": []
  }
 ],
 "metadata": {
  "kernelspec": {
   "display_name": "Python 3",
   "language": "python",
   "name": "python3"
  },
  "language_info": {
   "codemirror_mode": {
    "name": "ipython",
    "version": 3
   },
   "file_extension": ".py",
   "mimetype": "text/x-python",
   "name": "python",
   "nbconvert_exporter": "python",
   "pygments_lexer": "ipython3",
   "version": "3.8.3"
  }
 },
 "nbformat": 4,
 "nbformat_minor": 4
}
